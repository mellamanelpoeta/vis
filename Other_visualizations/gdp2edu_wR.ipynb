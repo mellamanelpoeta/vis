{
 "cells": [
  {
   "cell_type": "code",
   "execution_count": 1,
   "metadata": {
    "vscode": {
     "languageId": "r"
    }
   },
   "outputs": [
    {
     "data": {
      "text/html": [
       "<table class=\"dataframe\">\n",
       "<caption>A data.frame: 6 x 7</caption>\n",
       "<thead>\n",
       "\t<tr><th></th><th scope=col>Country</th><th scope=col>X2015</th><th scope=col>X2016</th><th scope=col>X2017</th><th scope=col>X2018</th><th scope=col>X2019</th><th scope=col>X2020</th></tr>\n",
       "\t<tr><th></th><th scope=col>&lt;chr&gt;</th><th scope=col>&lt;dbl&gt;</th><th scope=col>&lt;dbl&gt;</th><th scope=col>&lt;dbl&gt;</th><th scope=col>&lt;dbl&gt;</th><th scope=col>&lt;chr&gt;</th><th scope=col>&lt;chr&gt;</th></tr>\n",
       "</thead>\n",
       "<tbody>\n",
       "\t<tr><th scope=row>1</th><td>Belize     </td><td>6.87015</td><td>7.29365</td><td>7.45028</td><td>7.47227</td><td>7.13839</td><td>7.94096</td></tr>\n",
       "\t<tr><th scope=row>2</th><td>Costa Rica </td><td>6.87350</td><td>6.89396</td><td>7.06981</td><td>6.77907</td><td>6.80879</td><td>6.74626</td></tr>\n",
       "\t<tr><th scope=row>3</th><td>El Salvador</td><td>3.90988</td><td>3.82524</td><td>3.72523</td><td>3.60575</td><td>3.38516</td><td>..     </td></tr>\n",
       "\t<tr><th scope=row>4</th><td>Guatemala  </td><td>3.03033</td><td>2.94474</td><td>2.95010</td><td>3.13705</td><td>3.19928</td><td>3.29972</td></tr>\n",
       "\t<tr><th scope=row>5</th><td>Honduras   </td><td>6.41297</td><td>5.15962</td><td>4.93702</td><td>6.05647</td><td>4.91285</td><td>..     </td></tr>\n",
       "\t<tr><th scope=row>6</th><td>Mexico     </td><td>5.22942</td><td>4.90682</td><td>4.51822</td><td>4.25443</td><td>..     </td><td>..     </td></tr>\n",
       "</tbody>\n",
       "</table>\n"
      ],
      "text/latex": [
       "A data.frame: 6 x 7\n",
       "\\begin{tabular}{r|lllllll}\n",
       "  & Country & X2015 & X2016 & X2017 & X2018 & X2019 & X2020\\\\\n",
       "  & <chr> & <dbl> & <dbl> & <dbl> & <dbl> & <chr> & <chr>\\\\\n",
       "\\hline\n",
       "\t1 & Belize      & 6.87015 & 7.29365 & 7.45028 & 7.47227 & 7.13839 & 7.94096\\\\\n",
       "\t2 & Costa Rica  & 6.87350 & 6.89396 & 7.06981 & 6.77907 & 6.80879 & 6.74626\\\\\n",
       "\t3 & El Salvador & 3.90988 & 3.82524 & 3.72523 & 3.60575 & 3.38516 & ..     \\\\\n",
       "\t4 & Guatemala   & 3.03033 & 2.94474 & 2.95010 & 3.13705 & 3.19928 & 3.29972\\\\\n",
       "\t5 & Honduras    & 6.41297 & 5.15962 & 4.93702 & 6.05647 & 4.91285 & ..     \\\\\n",
       "\t6 & Mexico      & 5.22942 & 4.90682 & 4.51822 & 4.25443 & ..      & ..     \\\\\n",
       "\\end{tabular}\n"
      ],
      "text/markdown": [
       "\n",
       "A data.frame: 6 x 7\n",
       "\n",
       "| <!--/--> | Country &lt;chr&gt; | X2015 &lt;dbl&gt; | X2016 &lt;dbl&gt; | X2017 &lt;dbl&gt; | X2018 &lt;dbl&gt; | X2019 &lt;chr&gt; | X2020 &lt;chr&gt; |\n",
       "|---|---|---|---|---|---|---|---|\n",
       "| 1 | Belize      | 6.87015 | 7.29365 | 7.45028 | 7.47227 | 7.13839 | 7.94096 |\n",
       "| 2 | Costa Rica  | 6.87350 | 6.89396 | 7.06981 | 6.77907 | 6.80879 | 6.74626 |\n",
       "| 3 | El Salvador | 3.90988 | 3.82524 | 3.72523 | 3.60575 | 3.38516 | ..      |\n",
       "| 4 | Guatemala   | 3.03033 | 2.94474 | 2.95010 | 3.13705 | 3.19928 | 3.29972 |\n",
       "| 5 | Honduras    | 6.41297 | 5.15962 | 4.93702 | 6.05647 | 4.91285 | ..      |\n",
       "| 6 | Mexico      | 5.22942 | 4.90682 | 4.51822 | 4.25443 | ..      | ..      |\n",
       "\n"
      ],
      "text/plain": [
       "  Country     X2015   X2016   X2017   X2018   X2019   X2020  \n",
       "1 Belize      6.87015 7.29365 7.45028 7.47227 7.13839 7.94096\n",
       "2 Costa Rica  6.87350 6.89396 7.06981 6.77907 6.80879 6.74626\n",
       "3 El Salvador 3.90988 3.82524 3.72523 3.60575 3.38516 ..     \n",
       "4 Guatemala   3.03033 2.94474 2.95010 3.13705 3.19928 3.29972\n",
       "5 Honduras    6.41297 5.15962 4.93702 6.05647 4.91285 ..     \n",
       "6 Mexico      5.22942 4.90682 4.51822 4.25443 ..      ..     "
      ]
     },
     "metadata": {},
     "output_type": "display_data"
    }
   ],
   "source": [
    "data <- read.csv(\"gdp2edu_north_america.csv\")\n",
    "\n",
    "# Mostrar las primeras filas del DataFrame\n",
    "head(data)"
   ]
  },
  {
   "cell_type": "code",
   "execution_count": 4,
   "metadata": {
    "vscode": {
     "languageId": "r"
    }
   },
   "outputs": [
    {
     "data": {
      "text/html": [
       "<style>\n",
       ".list-inline {list-style: none; margin:0; padding: 0}\n",
       ".list-inline>li {display: inline-block}\n",
       ".list-inline>li:not(:last-child)::after {content: \"\\00b7\"; padding: 0 .5ex}\n",
       "</style>\n",
       "<ol class=list-inline><li>'Belize'</li><li>'Costa Rica'</li><li>'El Salvador'</li><li>'Guatemala'</li><li>'Honduras'</li><li>'Mexico'</li><li>'Nicaragua'</li><li>'Panama'</li><li>'United States'</li></ol>\n"
      ],
      "text/latex": [
       "\\begin{enumerate*}\n",
       "\\item 'Belize'\n",
       "\\item 'Costa Rica'\n",
       "\\item 'El Salvador'\n",
       "\\item 'Guatemala'\n",
       "\\item 'Honduras'\n",
       "\\item 'Mexico'\n",
       "\\item 'Nicaragua'\n",
       "\\item 'Panama'\n",
       "\\item 'United States'\n",
       "\\end{enumerate*}\n"
      ],
      "text/markdown": [
       "1. 'Belize'\n",
       "2. 'Costa Rica'\n",
       "3. 'El Salvador'\n",
       "4. 'Guatemala'\n",
       "5. 'Honduras'\n",
       "6. 'Mexico'\n",
       "7. 'Nicaragua'\n",
       "8. 'Panama'\n",
       "9. 'United States'\n",
       "\n",
       "\n"
      ],
      "text/plain": [
       "[1] \"Belize\"        \"Costa Rica\"    \"El Salvador\"   \"Guatemala\"    \n",
       "[5] \"Honduras\"      \"Mexico\"        \"Nicaragua\"     \"Panama\"       \n",
       "[9] \"United States\""
      ]
     },
     "metadata": {},
     "output_type": "display_data"
    }
   ],
   "source": [
    "#Get the country names\n",
    "country_names <- data$Country\n",
    "country_names"
   ]
  },
  {
   "cell_type": "code",
   "execution_count": 5,
   "metadata": {
    "vscode": {
     "languageId": "r"
    }
   },
   "outputs": [
    {
     "name": "stderr",
     "output_type": "stream",
     "text": [
      "ERROR while rich displaying an object: \u001b[1m\u001b[33mError\u001b[39m in `geom_bar()`:\u001b[22m\n",
      "\u001b[1m\u001b[22m\u001b[33m!\u001b[39m Problem while computing aesthetics.\n",
      "\u001b[36mi\u001b[39m Error occurred in the 1st layer.\n",
      "\u001b[1mCaused by error in `FUN()`:\u001b[22m\n",
      "\u001b[33m!\u001b[39m objeto 'GDP.per.capita.2018' no encontrado\n",
      "\n",
      "Traceback:\n",
      "1. tryCatch(withCallingHandlers({\n",
      " .     if (!mime %in% names(repr::mime2repr)) \n",
      " .         stop(\"No repr_* for mimetype \", mime, \" in repr::mime2repr\")\n",
      " .     rpr <- repr::mime2repr[[mime]](obj)\n",
      " .     if (is.null(rpr)) \n",
      " .         return(NULL)\n",
      " .     prepare_content(is.raw(rpr), rpr)\n",
      " . }, error = error_handler), error = outer_handler)\n",
      "2. tryCatchList(expr, classes, parentenv, handlers)\n",
      "3. tryCatchOne(expr, names, parentenv, handlers[[1L]])\n",
      "4. doTryCatch(return(expr), name, parentenv, handler)\n",
      "5. withCallingHandlers({\n",
      " .     if (!mime %in% names(repr::mime2repr)) \n",
      " .         stop(\"No repr_* for mimetype \", mime, \" in repr::mime2repr\")\n",
      " .     rpr <- repr::mime2repr[[mime]](obj)\n",
      " .     if (is.null(rpr)) \n",
      " .         return(NULL)\n",
      " .     prepare_content(is.raw(rpr), rpr)\n",
      " . }, error = error_handler)\n",
      "6. repr::mime2repr[[mime]](obj)\n",
      "7. repr_text.default(obj)\n",
      "8. paste(capture.output(print(obj)), collapse = \"\\n\")\n",
      "9. capture.output(print(obj))\n",
      "10. withVisible(...elt(i))\n",
      "11. print(obj)\n",
      "12. print.ggplot(obj)\n",
      "13. ggplot_build(x)\n",
      "14. ggplot_build.ggplot(x)\n",
      "15. by_layer(function(l, d) l$compute_aesthetics(d, plot), layers, \n",
      "  .     data, \"computing aesthetics\")\n",
      "16. try_fetch(for (i in seq_along(data)) {\n",
      "  .     out[[i]] <- f(l = layers[[i]], d = data[[i]])\n",
      "  . }, error = function(cnd) {\n",
      "  .     cli::cli_abort(c(\"Problem while {step}.\", i = \"Error occurred in the {ordinal(i)} layer.\"), \n",
      "  .         call = layers[[i]]$constructor, parent = cnd)\n",
      "  . })\n",
      "17. tryCatch(withCallingHandlers(expr, condition = function(cnd) {\n",
      "  .     {\n",
      "  .         .__handler_frame__. <- TRUE\n",
      "  .         .__setup_frame__. <- frame\n",
      "  .         if (inherits(cnd, \"message\")) {\n",
      "  .             except <- c(\"warning\", \"error\")\n",
      "  .         }\n",
      "  .         else if (inherits(cnd, \"warning\")) {\n",
      "  .             except <- \"error\"\n",
      "  .         }\n",
      "  .         else {\n",
      "  .             except <- \"\"\n",
      "  .         }\n",
      "  .     }\n",
      "  .     while (!is_null(cnd)) {\n",
      "  .         if (inherits(cnd, \"error\")) {\n",
      "  .             out <- handlers[[1L]](cnd)\n",
      "  .             if (!inherits(out, \"rlang_zap\")) \n",
      "  .                 throw(out)\n",
      "  .         }\n",
      "  .         inherit <- .subset2(.subset2(cnd, \"rlang\"), \"inherit\")\n",
      "  .         if (is_false(inherit)) {\n",
      "  .             return()\n",
      "  .         }\n",
      "  .         cnd <- .subset2(cnd, \"parent\")\n",
      "  .     }\n",
      "  . }), stackOverflowError = handlers[[1L]])\n",
      "18. tryCatchList(expr, classes, parentenv, handlers)\n",
      "19. tryCatchOne(expr, names, parentenv, handlers[[1L]])\n",
      "20. doTryCatch(return(expr), name, parentenv, handler)\n",
      "21. withCallingHandlers(expr, condition = function(cnd) {\n",
      "  .     {\n",
      "  .         .__handler_frame__. <- TRUE\n",
      "  .         .__setup_frame__. <- frame\n",
      "  .         if (inherits(cnd, \"message\")) {\n",
      "  .             except <- c(\"warning\", \"error\")\n",
      "  .         }\n",
      "  .         else if (inherits(cnd, \"warning\")) {\n",
      "  .             except <- \"error\"\n",
      "  .         }\n",
      "  .         else {\n",
      "  .             except <- \"\"\n",
      "  .         }\n",
      "  .     }\n",
      "  .     while (!is_null(cnd)) {\n",
      "  .         if (inherits(cnd, \"error\")) {\n",
      "  .             out <- handlers[[1L]](cnd)\n",
      "  .             if (!inherits(out, \"rlang_zap\")) \n",
      "  .                 throw(out)\n",
      "  .         }\n",
      "  .         inherit <- .subset2(.subset2(cnd, \"rlang\"), \"inherit\")\n",
      "  .         if (is_false(inherit)) {\n",
      "  .             return()\n",
      "  .         }\n",
      "  .         cnd <- .subset2(cnd, \"parent\")\n",
      "  .     }\n",
      "  . })\n",
      "22. f(l = layers[[i]], d = data[[i]])\n",
      "23. l$compute_aesthetics(d, plot)\n",
      "24. compute_aesthetics(..., self = self)\n",
      "25. scales_add_defaults(plot$scales, data, aesthetics, plot$plot_env)\n",
      "26. lapply(aesthetics[new_aesthetics], eval_tidy, data = data)\n",
      "27. FUN(X[[i]], ...)\n",
      "28. .handleSimpleError(function (cnd) \n",
      "  . {\n",
      "  .     {\n",
      "  .         .__handler_frame__. <- TRUE\n",
      "  .         .__setup_frame__. <- frame\n",
      "  .         if (inherits(cnd, \"message\")) {\n",
      "  .             except <- c(\"warning\", \"error\")\n",
      "  .         }\n",
      "  .         else if (inherits(cnd, \"warning\")) {\n",
      "  .             except <- \"error\"\n",
      "  .         }\n",
      "  .         else {\n",
      "  .             except <- \"\"\n",
      "  .         }\n",
      "  .     }\n",
      "  .     while (!is_null(cnd)) {\n",
      "  .         if (inherits(cnd, \"error\")) {\n",
      "  .             out <- handlers[[1L]](cnd)\n",
      "  .             if (!inherits(out, \"rlang_zap\")) \n",
      "  .                 throw(out)\n",
      "  .         }\n",
      "  .         inherit <- .subset2(.subset2(cnd, \"rlang\"), \"inherit\")\n",
      "  .         if (is_false(inherit)) {\n",
      "  .             return()\n",
      "  .         }\n",
      "  .         cnd <- .subset2(cnd, \"parent\")\n",
      "  .     }\n",
      "  . }, \"objeto 'GDP.per.capita.2018' no encontrado\", base::quote(FUN(X[[i]], \n",
      "  .     ...)))\n",
      "29. h(simpleError(msg, call))\n",
      "30. handlers[[1L]](cnd)\n",
      "31. cli::cli_abort(c(\"Problem while {step}.\", i = \"Error occurred in the {ordinal(i)} layer.\"), \n",
      "  .     call = layers[[i]]$constructor, parent = cnd)\n",
      "32. rlang::abort(message, ..., call = call, use_cli_format = TRUE, \n",
      "  .     .frame = .frame)\n",
      "33. signal_abort(cnd, .file)\n"
     ]
    }
   ],
   "source": [
    "library(ggplot2)"
   ]
  }
 ],
 "metadata": {
  "kernelspec": {
   "display_name": "R",
   "language": "R",
   "name": "ir"
  },
  "language_info": {
   "codemirror_mode": "r",
   "file_extension": ".r",
   "mimetype": "text/x-r-source",
   "name": "R",
   "pygments_lexer": "r",
   "version": "4.2.2"
  }
 },
 "nbformat": 4,
 "nbformat_minor": 2
}
