{
 "cells": [
  {
   "cell_type": "markdown",
   "metadata": {},
   "source": [
    "# Gráficas básicos\n",
    "> En el primer capítulo, nos familiarizamos con los conceptos de los elementos esenciales que conforman una gráfica; en el segundo, hemos repasado buenas y malas prácticas al diseñar una gráfica. Ahora es momento de aprender a elegir qué tipo de gráfica utilizar, en función de los tipos de datos que vamos a representar visualmente, y del mensaje que deseamos comunicar."
   ]
  },
  {
   "cell_type": "markdown",
   "metadata": {},
   "source": [
    "Nos enfocaremos exclusivamente en las gráficas para representar lo que llamamos datos tabulares, es decir, datos que típicamente están expresados en un formato tabular en dos o más dimensiones. Identificaremos cuáles son las gráficas más apropiadas si lo que buscamos es comparar magnitudes; analizar tendencias y hacer proyecciones; identificar en qué proporción distintos elementos contribuyen a la totalidad de los datos observados; identificar si existe una relación entre dos conjuntos de datos; o presentar una síntesis estadística de nuestros datos, entre otros.\n",
    "\n",
    "Este capítulo será esencial para construir narrativas claras y eficaces."
   ]
  },
  {
   "cell_type": "markdown",
   "metadata": {},
   "source": [
    "Cuando queremos contar una historia con gráficas, realmente lo que buscamos es hacer visible la relación entre los valores de nuestros datos. \n",
    "\n",
    "La forma en la que vamos a representar esta relación será a través de los marcadores de los que disponemos: los puntos, las líneas, las barras y las áreas, y los diferentes canales visuales para poder modificar las características de esos marcadores."
   ]
  }
 ],
 "metadata": {
  "language_info": {
   "name": "python"
  }
 },
 "nbformat": 4,
 "nbformat_minor": 2
}
