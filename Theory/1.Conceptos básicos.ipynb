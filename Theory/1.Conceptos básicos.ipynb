{
 "cells": [
  {
   "cell_type": "markdown",
   "metadata": {},
   "source": [
    "# Capítulo 1"
   ]
  },
  {
   "cell_type": "markdown",
   "metadata": {},
   "source": [
    "## Conceptos básicos"
   ]
  },
  {
   "cell_type": "markdown",
   "metadata": {},
   "source": [
    "Este capítulo introduce los conceptos básicos del curso: \n",
    "\n",
    "Qué es la visualización de datos, cuál es su objetivo y cómo funciona nuestro sistema perceptual, entre otros puntos importantes. \n",
    "\n",
    "El objetivo es conocer los componentes esenciales en el despliegue de datos de forma gráfica y así profundizar en la creación de visualizaciones de datos."
   ]
  },
  {
   "cell_type": "markdown",
   "metadata": {},
   "source": [
    "### 1.1 La visualización de información"
   ]
  },
  {
   "cell_type": "markdown",
   "metadata": {},
   "source": [
    "**La visualización de información es la comunicación de la misma, utilizando representaciones gráficas.** \n",
    "\n",
    "En la actualidad, los datos lo son todo. Conocida es la frase de “los datos son el nuevo petróleo”, pero estos datos no siempre son fáciles de comprender y utilizar de manera eficaz. \n",
    "\n",
    "Por lo tanto, **la representación visual de los datos consiste en sintetizar y presentar información de una manera mucho más eficiente y fácil de analizar.**\n",
    "\n"
   ]
  },
  {
   "cell_type": "markdown",
   "metadata": {},
   "source": [
    "#### ¿Por qué utilizar visualización?"
   ]
  },
  {
   "cell_type": "markdown",
   "metadata": {},
   "source": [
    "- Validar una hipótesis\n",
    "- Analizar información\n",
    "- Reconocer patrones y tendencias\n",
    "- Descubrir y crear nueva información\n",
    "- Comunicar mejor la información\n",
    "\n",
    "**Contar historias con datos y tomar mejores decisiones**"
   ]
  },
  {
   "cell_type": "markdown",
   "metadata": {},
   "source": [
    "### 1.1.1 ¿Por qué visualizar?"
   ]
  },
  {
   "cell_type": "markdown",
   "metadata": {},
   "source": [
    "- **El ser humano es visual.** Recibe más información por el sentido de la vista, que por todos los demás sentidos juntos.\n",
    "\n",
    "- **El procesamiento de la información es en paralelo.**\n",
    "La información visual que llega al cerebro es procesada en paralelo en más de 20 regiones para reconocer estímulos, patrones, formas y, eventualmente, darle sentido a la imagen. 50 % del cerebro, está involucrado en el procesamiento de información visual.\n",
    "\n",
    "- **La vista es el sentido que más información aporta**\n",
    "En definitiva, el sentido de la vista es un “canal” con un enorme “ancho de banda” hacia al cerebro, es decir, a través de él se puede asimilar una enorme cantidad de información. Podemos notar una gran diferencia con, por ejemplo, el sentido del oído que tiene alrededor de 16,000 sensores, pero procesa la información de manera secuencial."
   ]
  },
  {
   "cell_type": "markdown",
   "metadata": {},
   "source": [
    "La frase *una imagen dice más que mil palabras* defiende este punto de vista, y resalta la importancia de lo visual. \n",
    "\n",
    "Aunque hay que tomar precauciones y ser cautelosos al menos por dos razones. En primer lugar, porque, **la primera fase en el proceso de visualización ocurre muy rápidamente y de manera inconsciente, casi instintiva, pero suficiente para predisponer el cerebro a una interpretación que no necesariamente es correcta.**\n",
    "\n",
    "En segundo lugar, porque **si bien la imagen dice mil palabras, no habla por sí misma y, por tanto, hay que asegurarse de que esas palabras son las que deseamos expresar.**\n",
    "\n"
   ]
  },
  {
   "cell_type": "markdown",
   "metadata": {},
   "source": [
    "### 1.1.2 La percepción visual"
   ]
  },
  {
   "cell_type": "markdown",
   "metadata": {},
   "source": [
    "La percepción visual inicia con la excitación de los conos y bastones, los receptores fotosensibles que se encuentran en la retina y se conectan al nervio óptico.\n",
    "\n",
    "- Los bastones se especializan en percibir luz tenue y registran tonalidades de blanco y negro.\n",
    "\n",
    "- Los conos detectan estímulos más brillantes y se agrupan en tres categorías en función de las tonalidades que mejor perciben: rojo, verde y azul.\n",
    "\n"
   ]
  },
  {
   "cell_type": "markdown",
   "metadata": {},
   "source": [
    "Los estímulos detectados por los conos y bastones viajan como señales electroquímicas a través del nervio óptico hacia el cerebro, que es donde ocurre la percepción."
   ]
  },
  {
   "cell_type": "markdown",
   "metadata": {},
   "source": [
    "#### Proceso de percepción visual"
   ]
  },
  {
   "cell_type": "markdown",
   "metadata": {},
   "source": [
    "**1. Memoria icónica:**\n",
    "En esta memoria se alojan los fragmentos de información recibida a través del nervio óptico por no más de 200 milisegundos.\n",
    "\n",
    "Se realiza un primer procesamiento extremadamente rápido, automático e inconsciente (por eso se le llama procesamiento preatentivo), en el que únicamente se reconocen ciertos atributos, como el color, la textura y la posición de un objeto en un plano 2D.\n",
    "\n",
    "Esos son los atributos que “saltan a la vista” y los que se tendrán que privilegiar a la hora de diseñar gráficas donde lo que se busque sea resaltar algo en particular."
   ]
  },
  {
   "cell_type": "markdown",
   "metadata": {},
   "source": [
    "**2. Memoria de trabajo:** De la memoria icónica, los fragmentos de información pasan a la memoria de trabajo, donde se agrupan en bloques de 4 o 5 elementos que empiezan a tomar sentido. Aquí inicia el procesamiento consciente o atentivo de la percepción visual. Sigue siendo temporal, de apenas unos segudos, y de capacidad limitada. **Se debe evitar saturar la imagen con demasiados componentes.**"
   ]
  },
  {
   "cell_type": "markdown",
   "metadata": {},
   "source": [
    "**3. Memoria a largo plazo.** Cuando se decide almacenar información visual, lo que ocurre es que a través de un proceso de repetición, ya sea consciente o inconsciente, los bloques de información en la memoria de trabajo pasan a tejer complejas redes neuronales. Esto es lo que crea la memoria de largo plazo, entrando en juego otros espacios de nuestro cerebro, para, por fin, **encontrar relaciones para la identificación de patrones y reconocimiento de imágenes.** También se generan las asociaciones que permiten recordar o recuperar esas imágenes almacenadas en el cerebro.\n"
   ]
  }
 ],
 "metadata": {
  "kernelspec": {
   "display_name": "R",
   "language": "R",
   "name": "ir"
  },
  "language_info": {
   "name": "R"
  }
 },
 "nbformat": 4,
 "nbformat_minor": 2
}
