{
 "cells": [
  {
   "cell_type": "markdown",
   "metadata": {},
   "source": [
    "# Capítulo 1"
   ]
  },
  {
   "cell_type": "markdown",
   "metadata": {},
   "source": [
    "## 1. Conceptos básicos"
   ]
  },
  {
   "cell_type": "markdown",
   "metadata": {},
   "source": [
    "Este capítulo introduce los conceptos básicos del curso: \n",
    "\n",
    "Qué es la visualización de datos, cuál es su objetivo y cómo funciona nuestro sistema perceptual, entre otros puntos importantes. \n",
    "\n",
    "El objetivo es conocer los componentes esenciales en el despliegue de datos de forma gráfica y así profundizar en la creación de visualizaciones de datos."
   ]
  },
  {
   "cell_type": "markdown",
   "metadata": {},
   "source": [
    "### 1.1 La visualización de información"
   ]
  },
  {
   "cell_type": "markdown",
   "metadata": {},
   "source": [
    "**La visualización de información es la comunicación de la misma, utilizando representaciones gráficas.** \n",
    "\n",
    "En la actualidad, los datos lo son todo. Conocida es la frase de “los datos son el nuevo petróleo”, pero estos datos no siempre son fáciles de comprender y utilizar de manera eficaz. \n",
    "\n",
    "Por lo tanto, **la representación visual de los datos consiste en sintetizar y presentar información de una manera mucho más eficiente y fácil de analizar.**\n",
    "\n"
   ]
  },
  {
   "cell_type": "markdown",
   "metadata": {},
   "source": [
    "#### ¿Por qué utilizar visualización?"
   ]
  },
  {
   "cell_type": "markdown",
   "metadata": {},
   "source": [
    "- Validar una hipótesis\n",
    "- Analizar información\n",
    "- Reconocer patrones y tendencias\n",
    "- Descubrir y crear nueva información\n",
    "- Comunicar mejor la información\n",
    "\n",
    "**Contar historias con datos y tomar mejores decisiones**"
   ]
  },
  {
   "cell_type": "markdown",
   "metadata": {},
   "source": [
    "### 1.1.1 ¿Por qué visualizar?"
   ]
  },
  {
   "cell_type": "markdown",
   "metadata": {},
   "source": [
    "- **El ser humano es visual.** Recibe más información por el sentido de la vista, que por todos los demás sentidos juntos.\n",
    "\n",
    "- **El procesamiento de la información es en paralelo.**\n",
    "La información visual que llega al cerebro es procesada en paralelo en más de 20 regiones para reconocer estímulos, patrones, formas y, eventualmente, darle sentido a la imagen. 50 % del cerebro, está involucrado en el procesamiento de información visual.\n",
    "\n",
    "- **La vista es el sentido que más información aporta**\n",
    "En definitiva, el sentido de la vista es un “canal” con un enorme “ancho de banda” hacia al cerebro, es decir, a través de él se puede asimilar una enorme cantidad de información. Podemos notar una gran diferencia con, por ejemplo, el sentido del oído que tiene alrededor de 16,000 sensores, pero procesa la información de manera secuencial."
   ]
  },
  {
   "cell_type": "markdown",
   "metadata": {},
   "source": [
    "La frase *una imagen dice más que mil palabras* defiende este punto de vista, y resalta la importancia de lo visual. \n",
    "\n",
    "Aunque hay que tomar precauciones y ser cautelosos al menos por dos razones. En primer lugar, porque, **la primera fase en el proceso de visualización ocurre muy rápidamente y de manera inconsciente, casi instintiva, pero suficiente para predisponer el cerebro a una interpretación que no necesariamente es correcta.**\n",
    "\n",
    "En segundo lugar, porque **si bien la imagen dice mil palabras, no habla por sí misma y, por tanto, hay que asegurarse de que esas palabras son las que deseamos expresar.**\n",
    "\n"
   ]
  },
  {
   "cell_type": "markdown",
   "metadata": {},
   "source": [
    "### 1.1.2 La percepción visual"
   ]
  },
  {
   "cell_type": "markdown",
   "metadata": {},
   "source": [
    "La percepción visual inicia con la excitación de los conos y bastones, los receptores fotosensibles que se encuentran en la retina y se conectan al nervio óptico.\n",
    "\n",
    "- Los bastones se especializan en percibir luz tenue y registran tonalidades de blanco y negro.\n",
    "\n",
    "- Los conos detectan estímulos más brillantes y se agrupan en tres categorías en función de las tonalidades que mejor perciben: rojo, verde y azul.\n",
    "\n"
   ]
  },
  {
   "cell_type": "markdown",
   "metadata": {},
   "source": [
    "Los estímulos detectados por los conos y bastones viajan como señales electroquímicas a través del nervio óptico hacia el cerebro, que es donde ocurre la percepción."
   ]
  },
  {
   "cell_type": "markdown",
   "metadata": {},
   "source": [
    "#### Proceso de percepción visual"
   ]
  },
  {
   "cell_type": "markdown",
   "metadata": {},
   "source": [
    "**1. Memoria icónica:**\n",
    "En esta memoria se alojan los fragmentos de información recibida a través del nervio óptico por no más de 200 milisegundos.\n",
    "\n",
    "Se realiza un primer procesamiento extremadamente rápido, automático e inconsciente (por eso se le llama procesamiento preatentivo), en el que únicamente se reconocen ciertos atributos, como el color, la textura y la posición de un objeto en un plano 2D.\n",
    "\n",
    "Esos son los atributos que “saltan a la vista” y los que se tendrán que privilegiar a la hora de diseñar gráficas donde lo que se busque sea resaltar algo en particular."
   ]
  },
  {
   "cell_type": "markdown",
   "metadata": {},
   "source": [
    "**2. Memoria de trabajo:** De la memoria icónica, los fragmentos de información pasan a la memoria de trabajo, donde se agrupan en bloques de 4 o 5 elementos que empiezan a tomar sentido. Aquí inicia el procesamiento consciente o atentivo de la percepción visual. Sigue siendo temporal, de apenas unos segudos, y de capacidad limitada. **Se debe evitar saturar la imagen con demasiados componentes.**"
   ]
  },
  {
   "cell_type": "markdown",
   "metadata": {},
   "source": [
    "**3. Memoria a largo plazo.** Cuando se decide almacenar información visual, lo que ocurre es que a través de un proceso de repetición, ya sea consciente o inconsciente, los bloques de información en la memoria de trabajo pasan a tejer complejas redes neuronales. Esto es lo que crea la memoria de largo plazo, entrando en juego otros espacios de nuestro cerebro, para, por fin, **encontrar relaciones para la identificación de patrones y reconocimiento de imágenes.** También se generan las asociaciones que permiten recordar o recuperar esas imágenes almacenadas en el cerebro.\n"
   ]
  },
  {
   "cell_type": "markdown",
   "metadata": {},
   "source": [
    "### 1.2 ¿Qué es una gráfica? ¿Por qué utilizar gráficas?"
   ]
  },
  {
   "cell_type": "markdown",
   "metadata": {},
   "source": [
    "RAE(2022): representación de datos numéricos por medio de una o varias líneas que hacen visible la relación que esos datos guardan entre sí.\n",
    "\n",
    "**Definiremos una gráfica, como la representación visual de atríbutos mediante objetos geométricos básicos.**"
   ]
  },
  {
   "cell_type": "markdown",
   "metadata": {},
   "source": [
    "- Valores desplegados en un área delimitada por uno o más ejes\n",
    "- Valores codificados como objetos visuales en relación a los ejes. En este sentido, sería más apropiado extender la definición de la RAE de “líneas” a “elementos geométricos”, que además de líneas, incluyen puntos y barras, entre otros.\n",
    "- Los ejes proporcionan escalas usadas para etiquetar y asignar valores a los objetos visuales."
   ]
  },
  {
   "cell_type": "markdown",
   "metadata": {},
   "source": [
    " Es muy recomendable añadir algunos elementos adicionales, para que la gráfica pueda ser comprendida sin que haya un narrador que la tenga que explicar.\n",
    " ![](https://jincera.github.io/NotasViz/figuras/ejgraf.JPG)"
   ]
  },
  {
   "cell_type": "markdown",
   "metadata": {},
   "source": [
    "**No utilizar demasiados elementos adicionales**"
   ]
  },
  {
   "cell_type": "markdown",
   "metadata": {},
   "source": [
    "### 1.3 Tipos de datos"
   ]
  },
  {
   "cell_type": "markdown",
   "metadata": {},
   "source": [
    "Munzner 2014:\n",
    "1. Datos categóricos o nominales:\n",
    "Agrupación cualititaiva, no hay orden implícito, no hay una arítmetica implícita\n",
    "\n",
    "2. Datos ordenados\n",
    "Se puede establecer relaciones de orden (mayor, menor, igual). Se subdividen en dos:\n",
    "    - Ordinales: Número finito de valores que tienen una secuencia. Ejemplos: Meses, tallas, posición\n",
    "    - Cuantitativos: Datos numéricos, con magnitud asociada. La magnitud permite el orden. Aritmética."
   ]
  },
  {
   "cell_type": "markdown",
   "metadata": {},
   "source": [
    "### 1.3.3 Semática"
   ]
  },
  {
   "cell_type": "markdown",
   "metadata": {},
   "source": [
    "Los datos aislados no tienen sentido. **La semántica, el contexto en el que se presentan los datos**, es muy importante, sobre todo cuando se está haciendo análisis exploratorio y se busca entender qué nos están diciendo los datos."
   ]
  },
  {
   "cell_type": "markdown",
   "metadata": {},
   "source": [
    "Los nombres de las columnas dan un contexto, pero en sí mismos no son datos. Son datos de los datos o metadatos."
   ]
  },
  {
   "cell_type": "markdown",
   "metadata": {},
   "source": [
    "![](https://jincera.github.io/NotasViz/figuras/tab2.jpg)"
   ]
  },
  {
   "cell_type": "markdown",
   "metadata": {},
   "source": [
    "En la mayoría de las representaciones gráficas que se verán en este curso, los datos de donde se extrae la información se suelen presentar en un formato de tabla y, por ello, a ese tipo de gráficas se les llama gráficas tabulares. Estos no son los únicos conjuntos de datos que se presentarán en el curso; también se estudiarán otros dos conjuntos de datos: redes de vínculos y datos espaciales."
   ]
  },
  {
   "cell_type": "markdown",
   "metadata": {},
   "source": [
    "### 1.3.2 Conjuntos de datos"
   ]
  },
  {
   "cell_type": "markdown",
   "metadata": {},
   "source": [
    "#### Conjuntos de datos tabulares\n",
    "Las convenciones que seguirán para expresar la representación tabular de donde provienen los datos es la siguiente:\n",
    "\n",
    "- Item o registro Es la entidad individual, discreta, que contiene propiedades relevantes para nuestras narrativas. Un ítem es una representación, por ejemplo, de un alumno, un paciente, un automóvil o una ciudad.\n",
    "\n",
    "- Variable/Atributo/Dimensión Se trata de las propiedades medibles y registradas de un ítem, que, por lo tanto, tienen un valor que se utilizará para generar las gráficas.\n",
    "\n",
    "![](https://jincera.github.io/NotasViz/figuras/reptab.JPG)\n",
    "\n",
    "En la representación tabular de los datos, típicamente los ítems se ordenan por filas, y las variables o atributos, por columnas. Entonces, los valores son precisamente los contenidos de las celdas. Una de esas variables debe ser una llave, es decir, un identificador único que permite distinguir los ítems entre sí."
   ]
  },
  {
   "cell_type": "markdown",
   "metadata": {},
   "source": [
    "#### Conjuntos de datos de redes de vínculos\n",
    "Los conjuntos de datos de redes de vínculos permiten identificar relaciones entre ítems. Para poder representar adecuadamente esas relaciones, se tendrá que recurrir a otro tipo de representaciones visuales. Las que presentaremos en el curso, son dos: los mapas de árbol (treemap) en donde la posición muestra las relaciones jerárquicas entre los ítems y el área su magnitud; y los grafos en los que los nodos representan los ítems y los enlaces, las relaciones entre esos ítems.\n",
    "\n",
    "![](https://jincera.github.io/NotasViz/figuras/datosredes.JPG)\n"
   ]
  },
  {
   "cell_type": "markdown",
   "metadata": {},
   "source": [
    "#### Conjuntos de datos espaciales\n",
    "\n",
    "Para los conjuntos de datos espaciales, se mostrarán representaciones geoespaciales en las que los atributos de los ítems pueden asociarse a zonas geográficas específicas y, por tanto, tiene sentido representarlos dentro de o junto con una cartografía de esas regiones.\n",
    "\n",
    "![](https://jincera.github.io/NotasViz/figuras/datosgeo.JPG)"
   ]
  },
  {
   "cell_type": "markdown",
   "metadata": {},
   "source": [
    "### 1.4 Marcadores y canales visuales"
   ]
  },
  {
   "cell_type": "markdown",
   "metadata": {},
   "source": [
    "**Definimos como marcadores a los objetos geométricos básicos: puntos, barras y líneas**\n",
    "\n",
    "![](https://jincera.github.io/NotasViz/figuras/marccan.JPG)"
   ]
  },
  {
   "cell_type": "markdown",
   "metadata": {},
   "source": [
    "También se pueden utilizar como elementos geométricos las áreas y los volúmenes. En este curso, no utilizaremos volúmenes, y las áreas sólamente las utilizaremos para representar algunos conjuntos de datos de redes de vínculos y geoespaciales."
   ]
  },
  {
   "cell_type": "markdown",
   "metadata": {},
   "source": [
    "**Definimos como canales visuales a las propiedades de estos elementos geométricos que para poder mapear los datos hacia la representación gráfica.**\n",
    "\n",
    "Son las propiedades de los marcadores que controlan su apariencia, como la posición, longitud, anchura, tonalidad u orientación del elemento gráfico.\n",
    "\n",
    "![](https://jincera.github.io/NotasViz/figuras/ejmcan.JPG)"
   ]
  },
  {
   "cell_type": "markdown",
   "metadata": {},
   "source": [
    "### 1.4.1 Efectividad y expresividad de los canales visuales\n"
   ]
  },
  {
   "cell_type": "markdown",
   "metadata": {},
   "source": [
    "![](/Users/gerardoguerrero/vis/assets/images/expresividad.png)"
   ]
  },
  {
   "cell_type": "markdown",
   "metadata": {},
   "source": [
    "**Expresividad**: La codificación seleccionada debe permitir mostrar toda (y solamente) la información de los atributos relevantes en el conjunto de datos. Por ejemplo, si se están representando datos ordenados, su posición en el eje debe sugerir el orden que tienen esos datos. Si, por el contrario, los datos no están ordenados, su representación no debe insinuar un orden, aunque sí tal vez una categoría."
   ]
  },
  {
   "cell_type": "markdown",
   "metadata": {},
   "source": [
    "**Efectividad**: El sistema perceptual opera con juicios relativos, le cuesta mucho trabajo interpretar valores absolutos."
   ]
  },
  {
   "cell_type": "markdown",
   "metadata": {},
   "source": [
    "Por este tipo de límites, al querer identificar qué canal visual es más apropiado para transmitir un mensaje, se deben tomar en cuenta los siguientes elementos:\n",
    "\n",
    "- **Exactitud**: Qué tan precisamente pueden identificar e interpretar la diferencia entre ítems codificados.\n",
    "- **Discriminación**: Cuántos pasos únicos pueden percibir\n",
    "- **Separabilidad**: Qué tanto su habilidad para utilizar un canal es modificada por otros canales.\n",
    "- **Resaltado**: Cómo pueden resaltar algo utilizando cierto canal."
   ]
  },
  {
   "cell_type": "markdown",
   "metadata": {},
   "source": [
    "Recomendación para atributos ordenados\n",
    "![](https://jincera.github.io/NotasViz/figuras/record.jpg)"
   ]
  },
  {
   "cell_type": "markdown",
   "metadata": {},
   "source": [
    "Recomendación para atributos categóricos:\n",
    "\n",
    "![](https://jincera.github.io/NotasViz/figuras/reccat.jpg)"
   ]
  },
  {
   "cell_type": "markdown",
   "metadata": {},
   "source": [
    "Con relación a la exactitud, el sicólogo Stanley Stevens realizó una serie de experimentos y encontró lo que se conoce como la “Ley de Potencia Psico-Física de Stevens” o Ley de Potenciación.\n",
    "\n",
    "Establece que la percepción sensorial de un estímulo no aumenta en línea recta con el aumento en la intensidad del estímulo físico.\n",
    "\n",
    "La longitud es bastante exacta; los otros canales visuales amplifican o comprimen la sensación.\n",
    "\n",
    "\n",
    "\n",
    "![](https://jincera.github.io/NotasViz/figuras/power.jpg)"
   ]
  }
 ],
 "metadata": {
  "kernelspec": {
   "display_name": "R",
   "language": "R",
   "name": "ir"
  },
  "language_info": {
   "name": "R"
  }
 },
 "nbformat": 4,
 "nbformat_minor": 2
}
