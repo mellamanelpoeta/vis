{
 "cells": [
  {
   "cell_type": "markdown",
   "metadata": {},
   "source": [
    "## 2. Mejores prácticas y recomendaciones"
   ]
  },
  {
   "cell_type": "markdown",
   "metadata": {},
   "source": [
    "- Utilizar un mapeo de datos a marcadores y canales visuales que maximicen la expresividad y efectividad de las representaciones visuales.\n",
    "\n",
    "- Elegir la gráfica más apropiada a la historia que se desea contar, para lo que se debe tomar en consideración la experiencia del público objetivo.\n",
    "\n",
    "- Añadir el balance adecuado de información adicional: anotaciones, leyendas y etiquetas sin saturar la gráfica, recordando las características de las memorias icónica y de trabajo del sistema de percepción visual.\n"
   ]
  },
  {
   "cell_type": "markdown",
   "metadata": {},
   "source": [
    "### 2.1 El color\n",
    "Cuando se habla del color se suele hacer referencia a una sola de sus propiedades: la tonalidad o matiz, que es la cualidad que permite distinguirlo y nombrarlo, como rojo, amarillo y azul."
   ]
  },
  {
   "cell_type": "markdown",
   "metadata": {},
   "source": [
    "**Saturación**\n",
    "\n",
    "La saturación se refiere a la pureza con que una tonalidad exhibe su esencia. Un color altamente saturado se ve más “puro”, mientras que uno menos saturado se percibe como diluido. Se refiere a la cantidad de gris que tiene el color, y se puede medir en porcentaje.\n",
    "\n",
    "![](https://jincera.github.io/NotasViz/figuras/satura.JPG)"
   ]
  },
  {
   "cell_type": "markdown",
   "metadata": {},
   "source": [
    "**Brillo**\n",
    "\n",
    "El brillo o luminosidad se refiere a la claridad o brillantez de la tonalidad, a la cantidad de luz que refleja, por lo que está relacionado con la cantidad de tonalidad blanca o negra que tiene el color. En un color muy brillante domina el blanco, mientras que, cuando domina el negro, se dice que el color no tiene luminosidad.\n",
    "\n",
    "![](https://jincera.github.io/NotasViz/figuras/brillo.JPG)"
   ]
  },
  {
   "cell_type": "markdown",
   "metadata": {},
   "source": [
    "**Para un público adulto, las paletas suaves son más atractivas**, más fáciles de asimilar y generan menos cansancio cerebral que las brillantes. \n",
    "\n",
    "En cambio, **las paletas brillantes son más atractivas para el público infantil**, ya que al estar armando sus redes neuronales llaman más su atención y les facilita la retención de información.\n",
    "\n"
   ]
  },
  {
   "cell_type": "markdown",
   "metadata": {},
   "source": [
    "- **Datos ordenados: Saturación** Para representar con color datos ordenados algo que\n",
    "haremos, por ejemplo, en los mapas de calor y en las\n",
    "coropletas- no tiene sentido la tonalidad (¿qué es “mayor”, el\n",
    "verde o el amarillo? En estos casos, se utiliza un canal visual de\n",
    "color como la saturación. Saturación: Cantidad de blanco mezclada con la tonalidad\n",
    "\n",
    "- **Datos categóricos: Tonalidad** Para representar con color datos categóricos, la cantidad\n",
    "máxima sugerida es entre 6 y 12 tonalidades. Buscar tonalidades fácilmente distinguibles entre sí\n"
   ]
  },
  {
   "cell_type": "markdown",
   "metadata": {},
   "source": [
    "### 2.1.4  Tipos de paletas de colores"
   ]
  },
  {
   "cell_type": "markdown",
   "metadata": {},
   "source": [
    "3 grupos de paletas:\n",
    "1. Secuenciales: Para datos ordinales (cuantitativos y categóricos ordenados). Se pueden asignar los colores más suaves pequeños, y los valores progresivamente más grandes a los colores que se sitúan respectivamente a la derecha.\n",
    "\n",
    "![](https://jincera.github.io/NotasViz/figuras/palsec.JPG)\n",
    "\n",
    "\n",
    "2. Cualitativas: \n",
    "Para representar datos categóricos no ordenados. En ellas se han elegido tonalidades que son fácilmente identificables y no generan confusión.\n",
    "\n",
    "![](https://jincera.github.io/NotasViz/figuras/palcual.JPG)\n",
    "\n",
    "\n",
    "3. Divergentes:\n",
    "Son factibles para indicar datos ordinales en los que se puede identificar un valor central, para distinguir con mayor facilidad aquellos que están por debajo, o por encima  de ese valor central.\n",
    "\n",
    "![](https://jincera.github.io/NotasViz/figuras/paldiv.JPG)"
   ]
  },
  {
   "cell_type": "markdown",
   "metadata": {},
   "source": [
    "### 2.1.5 No abusar del color\n",
    "\n",
    "Las distintas tonalidades deben utilizarse exclusivamente cuando se necesita mostrar una clara diferenciación entre los datos, muy frecuentemente, cuando estos pertenecen a distintas categorías. De lo contrario, quizás se podrían estar mandando mensajes que no son reales.\n",
    "\n",
    "Por ejemplo, observe la gráfica de la figura 2.9. Los colores no aportan nada a la gráfica, pues en el eje horizontal ya se han identificado las categorías. Se convierten en un distractor, ya que el cerebro humano, consciente o inconscientemente, tratará de darle una interpretación a los distintos colores.\n",
    "\n",
    "![Figura 2.9: Ejemplo de un uso inapropiado del color. Fuente: Elaboración propia con datos de OCDE](https://jincera.github.io/NotasViz/figuras/colores.JPG)\n",
    "\n",
    "Figura 2.9"
   ]
  },
  {
   "cell_type": "markdown",
   "metadata": {},
   "source": [
    "La información representada en la gráfica de la figura 2.10 es la misma que en la gráfica 2.9, pero, de hecho, se distingue más fácilmente si (casi) todas las barras tienen la misma tonalidad. En la imagen mostrada, al emplear una tonalidad distinta para resaltar una categoría en particular, es prácticamente imposible no mirar la gráfica sin prestar inmediatamente atención a esa barra\n",
    "\n",
    "![](https://jincera.github.io/NotasViz/figuras/resalta.JPG)"
   ]
  },
  {
   "cell_type": "markdown",
   "metadata": {},
   "source": [
    "## 2.2 Comunicación efectiva\n"
   ]
  },
  {
   "cell_type": "markdown",
   "metadata": {},
   "source": [
    "**Reordenamiento**\n",
    "\n",
    "Al diseñar una gráfica, se busca intentar que la información representada se comprenda de la manera más sencilla y eficiente posible. En ocasiones, esto se consigue con algo tan sencillo como el reordenamiento de los datos que se están representando.\n",
    "![](https://jincera.github.io/NotasViz/figuras/pennoord.jpg)\n"
   ]
  },
  {
   "cell_type": "markdown",
   "metadata": {},
   "source": [
    "Observe la gráfica de la figura 2.11. Las barras ayudan a codificar la información y a distinguir pequeñas diferencias entre ellas. Rápidamente podemos identificar cúal es el país con mayor o con menor penetración de banda ancha (de los ahí mostrados) o qué países tienen magnitudes similares.\n"
   ]
  },
  {
   "cell_type": "markdown",
   "metadata": {},
   "source": [
    "\n",
    "![](https://jincera.github.io/NotasViz/figuras/penord.jpg)"
   ]
  },
  {
   "cell_type": "markdown",
   "metadata": {},
   "source": [
    "Es la misma información, pero al presentarla ordenada con base en la magnitud, resulta mucho más sencillo realizar comparaciones cuantitativas entre las categorías presentadas. El que el ordenamiento se haga de forma ascendente o descendente, también depende de la narrativa que se desea comunicar."
   ]
  },
  {
   "cell_type": "markdown",
   "metadata": {},
   "source": [
    "## 2.3 Etiquetado"
   ]
  },
  {
   "cell_type": "markdown",
   "metadata": {},
   "source": [
    "En resumen, las visualizaciones comunican información, y, para que lo hagan de manera efectiva, se deben cumplir los siguientes requisitos:\n",
    "\n",
    "1. Deben ser tan autocontenidas como sea posible.\n",
    "2. Es importante asignar títulos, etiquetas y leyendas que tengan sentido para la información que se va a transmitir.\n",
    "3. Solo hay que considerar añadir anotaciones adicionales si con ello se fortalece el mensaje que se desea transmitir.\n",
    "\n",
    "Resaltamos de manera particular los últimos dos puntos. Edwar Tufte, un muy reconocido pionero en el campo de la visualización de datos, introdujo el concepto de data-ink ratio, que se refiere a la proporción que guardan los elementos gráficos (marcadores y canales) que codifican los datos, con relación a todos los demás elementos de soporte (como etiquetas, títulos, leyendas y anotaciones) o decorativos (como logotipos e imágenes de fondo)."
   ]
  },
  {
   "cell_type": "markdown",
   "metadata": {},
   "source": [
    "Si bien nuestro entorno es un espacio de tres dimensiones, nuestro sistema de percepción visual adquiere más información y de manera más sencilla en un plano de dos dimensiones. La información de profundidad (la tercera dimensión) es mucho más difícil de adquirir y procesar.\n",
    "\n",
    "Esa es una de las razones por las cuales es muy aconsejable evitar presentar información con gráficas tridimensionales."
   ]
  },
  {
   "cell_type": "markdown",
   "metadata": {},
   "source": [
    "## 2.5 Malas prácticas a evitar\n",
    "\n",
    "### 2.5.1 Sugerir tendencias donde no las hay\n",
    "\n",
    "Las gráficas de líneas se asocian con patrones adquiridos y almacenados en nuestro cerebro que sugieren fuertemente una relación tendencial. Por ello, se deben utilizar casi exclusivamente para datos ordenados en los que mostrar dicha tendencia es información valiosa para apoyar nuestra narrativa.\n",
    "\n",
    "En otros casos, en particular cuando se están presentando datos de variables categóricas, graficarlos con un marcador de línea no es una buena práctica.\n",
    "![](https://jincera.github.io/NotasViz/figuras/mallinea.JPG)"
   ]
  },
  {
   "cell_type": "markdown",
   "metadata": {},
   "source": [
    "### 2.5.2 Origen de los ejes\n",
    "\n",
    "Cuando en una gráfica se están comparando magnitudes, el eje en el que se representan dichas magnitudes siempre debe iniciar en cero (si los datos no contienen valores negativos). De lo contrario, debido a que nuestro sistema perceptual está basado en juicios relativos, el mensaje que estaremos recibiendo estará sesgado.\n",
    "\n",
    "La gráfica de la izquierda en la figura 2.16 sugiere que la sucursal San Ángel captó 2/5 (40%) más clientes que Jacarandas y 4/5 (80%) más que Alpes. Esta impresión se ve reforzada por las líneas de apoyo al eje vertical (llamadas líneas de cuadrícula).\n",
    "\n",
    "![](https://jincera.github.io/NotasViz/figuras/malejes.JPG)"
   ]
  },
  {
   "cell_type": "markdown",
   "metadata": {},
   "source": [
    "### 2.5.3 Gráficas de pastel\n"
   ]
  },
  {
   "cell_type": "markdown",
   "metadata": {},
   "source": [
    "En la unidad anterior comentamos que las gráficas de pastel, al estar basadas en ángulos y áreas, son difíciles de interpretar y deben utilizarse esporádicamente. Sin embargo, son sumamente populares por lo que no podemos descartarlas por completo de nuestro portafolio de herramientas para visualización de datos. \n",
    "\n",
    "Una gráfica de pastel debe ser utilizada exclusivamente para mostrar la proporción en que cada elemento, de los observados, contribuye a la totalidad. Por ello, la contribución de cada elemento se da en porcentaje y su suma debe ser 100%\n",
    "\n",
    "![](https://jincera.github.io/NotasViz/figuras/pieno100.jpg)\n",
    "\n",
    "Por otro lado, el área de cada porción debe ser proporcional a la contribución de ese elemento a la totalidad de las observaciones. En la gráfica de la figura 2.18, por error o con intención, ese no es el caso.\n",
    "\n",
    "![](https://jincera.github.io/NotasViz/figuras/piemal2.jpg)"
   ]
  },
  {
   "cell_type": "markdown",
   "metadata": {},
   "source": [
    "En esta unidad hemos mostrado algunas de las principales propiedades de las gráficas que nos ayudan a alcanzar el objetivo final de nuestras representaciones visuales: comunicar un mensaje de manera clara y eficiente. También hemos identificado algunas malas prácticas que se presentan con cierta regularidad en el diseño de información gráfica. A continuación, se incluyen algunas recomendaciones que sin duda le ayudarán a realizar visualizaciones de datos más efectivas:\n",
    "\n",
    "1. Funcionalidad antes de forma. Es muy peligroso empezar a concebir la representación visual a partir de elementos estéticos (pensar en una gráfica “bonita”) y solo después pensar en los datos y en la historia que queremos narrar. El diseño de la gráfica siempre debe empezar enfocado en la funcionalidad (qué queremos que la gráfica cuente) y, poco a poco, se añaden elementos estéticos, tomando en cuenta, de ser posible, nuestra población objetivo, es decir, a quién va dirigido el mensaje.\n",
    "\n",
    "2. High data-ink ratio. Tengamos siempre presente el principio de diseño de Edward Tufte: high data-ink ratio. Sobre todas las cosas, se debe asegurar que las gráficas muestran los datos y la historia detrás de ellos. Evitar resaltar elementos de fondo; utilizar líneas delgadas y tonos neutros, que no distraigan la atención del observador.\n",
    "No variar un canal visual, a menos que el cambio signifique algo que realmente se desea.\n",
    "\n",
    "3. Less is more. Recordemos que la memoria de trabajo solo puede retener unos cuantos patrones visuales. Por ello, hay que procurar reducir al máximo el número de bloques de elementos que contiene nuestra gráfica.\n"
   ]
  },
  {
   "cell_type": "markdown",
   "metadata": {},
   "source": [
    "Finalmente, porque una representación visual es una forma de comunicación, te invitamos a que siempre tengas presente las máximas sobre la conversación de Paul Grice, un filósofo británico ampliamente reconocido por sus contribuciones en el campo de la lingüística:\n",
    "\n",
    "- **Cantidad** El mensaje debe ser tan informativo como sea necesario.\n",
    "- **Calidad** No comuniques lo que crees que es falso o aquello para lo cual te falta evidencia.\n",
    "- **Relevancia** El mensaje debe ser relevante para la conversación.\n",
    "- **Forma** Sé breve, claro y ordenado. Evita la ambigüedad"
   ]
  }
 ],
 "metadata": {
  "kernelspec": {
   "display_name": "R",
   "language": "R",
   "name": "ir"
  },
  "language_info": {
   "name": "R"
  }
 },
 "nbformat": 4,
 "nbformat_minor": 2
}
