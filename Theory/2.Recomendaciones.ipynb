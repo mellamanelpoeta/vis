{
 "cells": [
  {
   "cell_type": "markdown",
   "metadata": {},
   "source": [
    "## 2. Mejores prácticas y recomendaciones"
   ]
  },
  {
   "cell_type": "markdown",
   "metadata": {},
   "source": [
    "- Utilizar un mapeo de datos a marcadores y canales visuales que maximicen la expresividad y efectividad de las representaciones visuales.\n",
    "\n",
    "- Elegir la gráfica más apropiada a la historia que se desea contar, para lo que se debe tomar en consideración la experiencia del público objetivo.\n",
    "\n",
    "- Añadir el balance adecuado de información adicional: anotaciones, leyendas y etiquetas sin saturar la gráfica, recordando las características de las memorias icónica y de trabajo del sistema de percepción visual.\n"
   ]
  },
  {
   "cell_type": "markdown",
   "metadata": {},
   "source": [
    "### 2.1 El color\n",
    "Cuando se habla del color se suele hacer referencia a una sola de sus propiedades: la tonalidad o matiz, que es la cualidad que permite distinguirlo y nombrarlo, como rojo, amarillo y azul."
   ]
  },
  {
   "cell_type": "markdown",
   "metadata": {},
   "source": [
    "**Saturación**\n",
    "\n",
    "La saturación se refiere a la pureza con que una tonalidad exhibe su esencia. Un color altamente saturado se ve más “puro”, mientras que uno menos saturado se percibe como diluido. Se refiere a la cantidad de gris que tiene el color, y se puede medir en porcentaje.\n",
    "\n",
    "![](https://jincera.github.io/NotasViz/figuras/satura.JPG)"
   ]
  },
  {
   "cell_type": "markdown",
   "metadata": {},
   "source": [
    "**Brillo**\n",
    "\n",
    "El brillo o luminosidad se refiere a la claridad o brillantez de la tonalidad, a la cantidad de luz que refleja, por lo que está relacionado con la cantidad de tonalidad blanca o negra que tiene el color. En un color muy brillante domina el blanco, mientras que, cuando domina el negro, se dice que el color no tiene luminosidad.\n",
    "\n",
    "![](https://jincera.github.io/NotasViz/figuras/brillo.JPG)"
   ]
  },
  {
   "cell_type": "markdown",
   "metadata": {},
   "source": [
    "**Para un público adulto, las paletas suaves son más atractivas**, más fáciles de asimilar y generan menos cansancio cerebral que las brillantes. \n",
    "\n",
    "En cambio, **las paletas brillantes son más atractivas para el público infantil**, ya que al estar armando sus redes neuronales llaman más su atención y les facilita la retención de información.\n",
    "\n"
   ]
  },
  {
   "cell_type": "markdown",
   "metadata": {},
   "source": [
    "- **Datos ordenados: Saturación** Para representar con color datos ordenados algo que\n",
    "haremos, por ejemplo, en los mapas de calor y en las\n",
    "coropletas- no tiene sentido la tonalidad (¿qué es “mayor”, el\n",
    "verde o el amarillo? En estos casos, se utiliza un canal visual de\n",
    "color como la saturación. Saturación: Cantidad de blanco mezclada con la tonalidad\n",
    "\n",
    "- **Datos categóricos: Tonalidad** Para representar con color datos categóricos, la cantidad\n",
    "máxima sugerida es entre 6 y 12 tonalidades. Buscar tonalidades fácilmente distinguibles entre sí\n"
   ]
  },
  {
   "cell_type": "markdown",
   "metadata": {},
   "source": [
    "### 2.1.4  Tipos de paletas de colores"
   ]
  },
  {
   "cell_type": "markdown",
   "metadata": {},
   "source": [
    "3 grupos de paletas:\n",
    "1. Secuenciales: Para datos ordinales (cuantitativos y categóricos ordenados). Se pueden asignar los colores más suaves pequeños, y los valores progresivamente más grandes a los colores que se sitúan respectivamente a la derecha.\n",
    "\n",
    "![](https://jincera.github.io/NotasViz/figuras/palsec.JPG)\n",
    "\n",
    "\n",
    "2. Cualitativas: \n",
    "Para representar datos categóricos no ordenados. En ellas se han elegido tonalidades que son fácilmente identificables y no generan confusión.\n",
    "\n",
    "![](https://jincera.github.io/NotasViz/figuras/palcual.JPG)\n",
    "\n",
    "\n",
    "3. Divergentes:\n",
    "Son factibles para indicar datos ordinales en los que se puede identificar un valor central, para distinguir con mayor facilidad aquellos que están por debajo, o por encima  de ese valor central.\n",
    "\n",
    "![](https://jincera.github.io/NotasViz/figuras/paldiv.JPG)"
   ]
  },
  {
   "cell_type": "markdown",
   "metadata": {},
   "source": [
    "**Reordenamiento**"
   ]
  },
  {
   "cell_type": "markdown",
   "metadata": {},
   "source": [
    "![](https://jincera.github.io/NotasViz/figuras/pennoord.jpg)\n",
    "\n",
    "![](https://jincera.github.io/NotasViz/figuras/penord.jpg)"
   ]
  },
  {
   "cell_type": "markdown",
   "metadata": {},
   "source": []
  }
 ],
 "metadata": {
  "kernelspec": {
   "display_name": "R",
   "language": "R",
   "name": "ir"
  },
  "language_info": {
   "name": "R"
  }
 },
 "nbformat": 4,
 "nbformat_minor": 2
}
