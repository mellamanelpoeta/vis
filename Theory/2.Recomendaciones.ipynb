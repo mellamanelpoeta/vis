{
 "cells": [
  {
   "cell_type": "markdown",
   "metadata": {},
   "source": [
    "## 2. Mejores prácticas y recomendaciones"
   ]
  },
  {
   "cell_type": "markdown",
   "metadata": {},
   "source": [
    "- Utilizar un mapeo de datos a marcadores y canales visuales que maximicen la expresividad y efectividad de las representaciones visuales.\n",
    "\n",
    "- Elegir la gráfica más apropiada a la historia que se desea contar, para lo que se debe tomar en consideración la experiencia del público objetivo.\n",
    "\n",
    "- Añadir el balance adecuado de información adicional: anotaciones, leyendas y etiquetas sin saturar la gráfica, recordando las características de las memorias icónica y de trabajo del sistema de percepción visual.\n"
   ]
  },
  {
   "cell_type": "markdown",
   "metadata": {},
   "source": [
    "### 2.1 El color\n",
    "Cuando se habla del color se suele hacer referencia a una sola de sus propiedades: la tonalidad o matiz, que es la cualidad que permite distinguirlo y nombrarlo, como rojo, amarillo y azul."
   ]
  },
  {
   "cell_type": "markdown",
   "metadata": {},
   "source": [
    "**Saturación**\n",
    "\n",
    "La saturación se refiere a la pureza con que una tonalidad exhibe su esencia. Un color altamente saturado se ve más “puro”, mientras que uno menos saturado se percibe como diluido. Se refiere a la cantidad de gris que tiene el color, y se puede medir en porcentaje.\n",
    "\n",
    "![](https://jincera.github.io/NotasViz/figuras/satura.JPG)"
   ]
  }
 ],
 "metadata": {
  "kernelspec": {
   "display_name": "R",
   "language": "R",
   "name": "ir"
  },
  "language_info": {
   "name": "R"
  }
 },
 "nbformat": 4,
 "nbformat_minor": 2
}
